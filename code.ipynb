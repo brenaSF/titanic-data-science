{
 "cells": [
  {
   "cell_type": "code",
   "execution_count": 3,
   "id": "d58ad8c3",
   "metadata": {},
   "outputs": [],
   "source": [
    "# Importando as bibliotecas dos dados\n",
    "\n",
    "import pandas as pd\n",
    "import numpy as np\n",
    "import matplotlib.pyplot as plt\n",
    "import seaborn as sns\n"
   ]
  },
  {
   "cell_type": "code",
   "execution_count": 5,
   "id": "a6f705f2",
   "metadata": {},
   "outputs": [],
   "source": [
    "\n",
    "# Carregando os dados de treinamento e teste\n",
    "train_data = pd.read_csv(\"train.csv\")\n",
    "test_data = pd.read_csv(\"test.csv\")\n",
    "\n"
   ]
  },
  {
   "cell_type": "code",
   "execution_count": 6,
   "id": "c4318273",
   "metadata": {},
   "outputs": [
    {
     "name": "stdout",
     "output_type": "stream",
     "text": [
      "   PassengerId  Survived  Pclass  \\\n",
      "0            1         0       3   \n",
      "1            2         1       1   \n",
      "2            3         1       3   \n",
      "3            4         1       1   \n",
      "4            5         0       3   \n",
      "\n",
      "                                                Name     Sex   Age  SibSp  \\\n",
      "0                            Braund, Mr. Owen Harris    male  22.0      1   \n",
      "1  Cumings, Mrs. John Bradley (Florence Briggs Th...  female  38.0      1   \n",
      "2                             Heikkinen, Miss. Laina  female  26.0      0   \n",
      "3       Futrelle, Mrs. Jacques Heath (Lily May Peel)  female  35.0      1   \n",
      "4                           Allen, Mr. William Henry    male  35.0      0   \n",
      "\n",
      "   Parch            Ticket     Fare Cabin Embarked  \n",
      "0      0         A/5 21171   7.2500   NaN        S  \n",
      "1      0          PC 17599  71.2833   C85        C  \n",
      "2      0  STON/O2. 3101282   7.9250   NaN        S  \n",
      "3      0            113803  53.1000  C123        S  \n",
      "4      0            373450   8.0500   NaN        S  \n"
     ]
    }
   ],
   "source": [
    "# Visualizando algumas amostras dos dados de treinamento\n",
    "print(train_data.head())"
   ]
  },
  {
   "cell_type": "code",
   "execution_count": 18,
   "id": "f46f710e",
   "metadata": {},
   "outputs": [
    {
     "name": "stdout",
     "output_type": "stream",
     "text": [
      "0    18-29\n",
      "1    30-49\n",
      "2    18-29\n",
      "3    30-49\n",
      "4    30-49\n",
      "Name: AgeGroup, dtype: category\n",
      "Categories (4, object): ['0-17' < '18-29' < '30-49' < '50+']\n"
     ]
    }
   ],
   "source": [
    "# Supondo que 'train_data' é o DataFrame que contém os dados do Titanic, e 'Age' é a coluna com as idades\n",
    "train_data['Age'] = train_data['Age'].fillna(train_data['Age'].median())  # Preenche valores ausentes com a mediana das idades\n",
    "\n",
    "bins = [0, 18, 30, 50, 100]  # Limites das faixas etárias\n",
    "labels = ['0-17', '18-29', '30-49', '50+']  # Rótulos das faixas etárias\n",
    "train_data['AgeGroup'] = pd.cut(train_data['Age'], bins=bins, labels=labels, right=False)\n",
    "\n",
    "print(train_data['AgeGroup'].head())"
   ]
  },
  {
   "cell_type": "code",
   "execution_count": null,
   "id": "8c8791be",
   "metadata": {},
   "outputs": [],
   "source": []
  }
 ],
 "metadata": {
  "kernelspec": {
   "display_name": "Python 3 (ipykernel)",
   "language": "python",
   "name": "python3"
  },
  "language_info": {
   "codemirror_mode": {
    "name": "ipython",
    "version": 3
   },
   "file_extension": ".py",
   "mimetype": "text/x-python",
   "name": "python",
   "nbconvert_exporter": "python",
   "pygments_lexer": "ipython3",
   "version": "3.9.13"
  }
 },
 "nbformat": 4,
 "nbformat_minor": 5
}
